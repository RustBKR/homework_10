{
 "cells": [
  {
   "cell_type": "markdown",
   "metadata": {},
   "source": [
    "Задание 1\n",
    "Скачайте с сайта https://grouplens.org/datasets/movielens/ датасет любого размера. Определите какому фильму было выставлено больше всего оценок 5.0."
   ]
  },
  {
   "cell_type": "code",
   "execution_count": 6,
   "metadata": {},
   "outputs": [
    {
     "name": "stdout",
     "output_type": "stream",
     "text": [
      "Shawshank Redemption, The (1994)\n"
     ]
    }
   ],
   "source": [
    "import pandas as pd\n",
    "\n",
    "ratings = pd.read_csv('ml-latest-small/ratings.csv')\n",
    "filtered_ratings = ratings[ ratings['rating'] == 5.0 ]\n",
    "data = filtered_ratings.groupby('movieId').count().sort_values('rating', ascending=False).head()\n",
    "\n",
    "movies = pd.read_csv('ml-latest-small/movies.csv')\n",
    "\n",
    "joined = data.merge(movies, on='movieId', how='left')\n",
    "\n",
    "print (joined.title[0])"
   ]
  },
  {
   "cell_type": "markdown",
   "metadata": {},
   "source": [
    "Задание 2\n",
    "По данным файла power.csv посчитайте суммарное потребление стран Прибалтики (Латвия, Литва и Эстония) категорий 4, 12 и 21 за период с 2005 по 2010 года. Не учитывайте в расчетах отрицательные значения quantity."
   ]
  },
  {
   "cell_type": "code",
   "execution_count": 8,
   "metadata": {},
   "outputs": [
    {
     "name": "stdout",
     "output_type": "stream",
     "text": [
      "Суммарное потребление стран Прибалтики: 240580.0\n"
     ]
    }
   ],
   "source": [
    "import pandas as pd\n",
    "\n",
    "data = pd.read_csv('power.csv')\n",
    "\n",
    "filtered_countries = data[ ((data['country']=='Lithuania') | (data['country']=='Latvia')\n",
    "                                   | (data['country']=='Estonia')) & ((data['category']==4)\n",
    "                                   | (data['category']==12) | (data['category']==21))]\n",
    "\n",
    "filtered_years = filtered_countries.loc[filtered_countries['year'].between(2005, 2010)]\n",
    "\n",
    "sum_quantity = filtered_years.query('quantity >= 0').sum()\n",
    "\n",
    "print ('Суммарное потребление стран Прибалтики:', sum_quantity['quantity'])"
   ]
  },
  {
   "cell_type": "markdown",
   "metadata": {},
   "source": [
    "Задание 3\n",
    "Выберите страницу любого сайта с табличными данными. Импортируйте таблицы в pandas dataframe.\n",
    "Примеры страниц (необязательно брать именно эти):\n",
    "https://fortrader.org/quotes\n",
    "https://www.finanz.ru/valyuty/v-realnom-vremeni"
   ]
  },
  {
   "cell_type": "code",
   "execution_count": 9,
   "metadata": {},
   "outputs": [
    {
     "data": {
      "text/plain": [
       "[         0   1      2\n",
       " 0  МРСК ЦП NaN  3.55%,           0   1       2\n",
       " 0  AGRO-гдр NaN  -2.97%,           0   1      2\n",
       " 0  МосБиржа NaN  2.41%,             0   1       2\n",
       " 0  Распадская NaN  -1.77%,             0   1      2\n",
       " 0  Ленэнерг-п NaN  2.27%,             0   1       2\n",
       " 0  ИнтерРАОао NaN  -1.49%,           0   1      2\n",
       " 0  ENPL-гдр NaN  1.89%,           0   1       2\n",
       " 0  Мечел ап NaN  -1.31%,           0   1      2\n",
       " 0  Сургнфгз NaN  1.86%,         0   1       2\n",
       " 0  ТМК ао NaN  -1.06%,           0   1      2\n",
       " 0  ОГК-2 ао NaN  1.81%,            0   1       2\n",
       " 0  ГМКНорНик NaN  -1.03%,         0   1      2\n",
       " 0  ПИК ао NaN  1.52%,             0   1       2\n",
       " 0  ГАЗПРОМ ао NaN  -0.93%,        0   1      2\n",
       " 0  Полюс NaN  1.40%,             0   1       2\n",
       " 0  Ростел -ао NaN  -0.72%,           0   1      2\n",
       " 0  FIVE-гдр NaN  1.39%,           0   1       2\n",
       " 0  ЧЗПСН ао NaN  -0.59%,          0   1      2\n",
       " 0  НЛМК ао NaN  1.06%,             0   1       2\n",
       " 0  РуссНфт ао NaN  -0.57%]"
      ]
     },
     "execution_count": 9,
     "metadata": {},
     "output_type": "execute_result"
    }
   ],
   "source": [
    "import pandas as pd\n",
    "\n",
    "page_url = 'http://www.finam.ru'\n",
    "df = pd.read_html(page_url, attrs = {'class': '_-frontend-public-components-SelectBlock-BlockTypes-_InnerTypes-_ItemTypes-QuotationDouble-___Item__container___2hPM_'})\n",
    "df"
   ]
  },
  {
   "cell_type": "code",
   "execution_count": null,
   "metadata": {},
   "outputs": [],
   "source": []
  }
 ],
 "metadata": {
  "kernelspec": {
   "display_name": "Python 3",
   "language": "python",
   "name": "python3"
  },
  "language_info": {
   "codemirror_mode": {
    "name": "ipython",
    "version": 3
   },
   "file_extension": ".py",
   "mimetype": "text/x-python",
   "name": "python",
   "nbconvert_exporter": "python",
   "pygments_lexer": "ipython3",
   "version": "3.7.3"
  }
 },
 "nbformat": 4,
 "nbformat_minor": 2
}
